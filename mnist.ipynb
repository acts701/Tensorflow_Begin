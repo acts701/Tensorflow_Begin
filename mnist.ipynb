{
  "nbformat": 4,
  "nbformat_minor": 0,
  "metadata": {
    "colab": {
      "name": "Untitled1.ipynb의 사본",
      "provenance": [],
      "collapsed_sections": []
    },
    "kernelspec": {
      "name": "python3",
      "display_name": "Python 3"
    }
  },
  "cells": [
    {
      "cell_type": "code",
      "metadata": {
        "id": "NivdMnnhhRp2",
        "colab_type": "code",
        "colab": {}
      },
      "source": [
        # origin = https://www.tensorflow.org/tutorials/quickstart/beginner?hl=ko
        "from __future__ import absolute_import, division, print_function, unicode_literals\n",
        "\n",
        "try:\n",
        "  %tensorflow_version 2.x\n",
        "except Exception:\n",
        "    pass\n",
        "\n",
        "import tensorflow as tf"
      ],
      "execution_count": 0,
      "outputs": []
    },
    {
      "cell_type": "code",
      "metadata": {
        "id": "mkA4fcoFh21D",
        "colab_type": "code",
        "colab": {}
      },
      "source": [
        "mnist = tf.keras.datasets.mnist\n",
        "\n",
        "(x_train, y_train), (x_test, y_test) = mnist.load_data()\n",
        "x_train, x_test = x_train / 255.0, x_test / 255.0"
      ],
      "execution_count": 0,
      "outputs": []
    },
    {
      "cell_type": "code",
      "metadata": {
        "id": "9fq49J2KiKYI",
        "colab_type": "code",
        "colab": {}
      },
      "source": [
        "model = tf.keras.models.Sequential([\n",
        "    tf.keras.layers.Flatten(input_shape=(28, 28)),\n",
        "    tf.keras.layers.Dense(128, activation='relu'),\n",
        "    tf.keras.layers.Dropout(0.2),\n",
        "    tf.keras.layers.Dense(10)\n",
        "])"
      ],
      "execution_count": 0,
      "outputs": []
    },
    {
      "cell_type": "code",
      "metadata": {
        "id": "Daz0fRs6iyyC",
        "colab_type": "code",
        "outputId": "7d18355c-0a6c-437c-efa3-7b4c9a123f4d",
        "colab": {
          "base_uri": "https://localhost:8080/",
          "height": 199
        }
      },
      "source": [
        "predictions = model(x_train[:1]).numpy()\n",
        "predictions"
      ],
      "execution_count": 0,
      "outputs": [
        {
          "output_type": "stream",
          "text": [
            "WARNING:tensorflow:Layer flatten_6 is casting an input tensor from dtype float64 to the layer's dtype of float32, which is new behavior in TensorFlow 2.  The layer has dtype float32 because it's dtype defaults to floatx.\n",
            "\n",
            "If you intended to run this layer in float32, you can safely ignore this warning. If in doubt, this warning is likely only an issue if you are porting a TensorFlow 1.X model to TensorFlow 2.\n",
            "\n",
            "To change all layers to have dtype float64 by default, call `tf.keras.backend.set_floatx('float64')`. To change just this layer, pass dtype='float64' to the layer constructor. If you are the author of this layer, you can disable autocasting by passing autocast=False to the base Layer constructor.\n",
            "\n"
          ],
          "name": "stdout"
        },
        {
          "output_type": "execute_result",
          "data": {
            "text/plain": [
              "array([[-0.16227812, -0.4712593 , -0.08040148,  0.23531596, -0.18668115,\n",
              "        -0.00668325, -0.23422945,  0.04732367, -0.33340645,  0.07585847]],\n",
              "      dtype=float32)"
            ]
          },
          "metadata": {
            "tags": []
          },
          "execution_count": 40
        }
      ]
    },
    {
      "cell_type": "code",
      "metadata": {
        "id": "XM_o8Fo5jFhf",
        "colab_type": "code",
        "outputId": "90ce9a9d-6f10-4e1a-9580-79bd3ec7ff1a",
        "colab": {
          "base_uri": "https://localhost:8080/",
          "height": 71
        }
      },
      "source": [
        "tf.nn.softmax(predictions).numpy()"
      ],
      "execution_count": 0,
      "outputs": [
        {
          "output_type": "execute_result",
          "data": {
            "text/plain": [
              "array([[0.09321958, 0.06844131, 0.10117325, 0.13873309, 0.09097227,\n",
              "        0.10891336, 0.08674792, 0.11495716, 0.07855739, 0.11828469]],\n",
              "      dtype=float32)"
            ]
          },
          "metadata": {
            "tags": []
          },
          "execution_count": 41
        }
      ]
    },
    {
      "cell_type": "code",
      "metadata": {
        "id": "_az8sR_gjN4l",
        "colab_type": "code",
        "colab": {}
      },
      "source": [
        "loss_fn = tf.keras.losses.SparseCategoricalCrossentropy(from_logits=True)"
      ],
      "execution_count": 0,
      "outputs": []
    },
    {
      "cell_type": "code",
      "metadata": {
        "id": "s4icVcRIjYNH",
        "colab_type": "code",
        "colab": {}
      },
      "source": [
        "model.compile(optimizer='adam',\n",
        "              loss=loss_fn,\n",
        "              metrics=['accuracy'])"
      ],
      "execution_count": 0,
      "outputs": []
    },
    {
      "cell_type": "code",
      "metadata": {
        "id": "97zGgRDgjhXs",
        "colab_type": "code",
        "outputId": "f5c328d3-73d4-4b4d-cb85-77a245221603",
        "colab": {
          "base_uri": "https://localhost:8080/",
          "height": 233
        }
      },
      "source": [
        "model.fit(x_train, y_train, epochs=5)"
      ],
      "execution_count": 0,
      "outputs": [
        {
          "output_type": "stream",
          "text": [
            "Train on 60000 samples\n",
            "Epoch 1/5\n",
            "60000/60000 [==============================] - 4s 62us/sample - loss: 0.2953 - accuracy: 0.9129\n",
            "Epoch 2/5\n",
            "60000/60000 [==============================] - 4s 60us/sample - loss: 0.1425 - accuracy: 0.9578\n",
            "Epoch 3/5\n",
            "60000/60000 [==============================] - 4s 59us/sample - loss: 0.1042 - accuracy: 0.9686\n",
            "Epoch 4/5\n",
            "60000/60000 [==============================] - 4s 59us/sample - loss: 0.0860 - accuracy: 0.9735\n",
            "Epoch 5/5\n",
            "60000/60000 [==============================] - 4s 60us/sample - loss: 0.0715 - accuracy: 0.9775\n"
          ],
          "name": "stdout"
        },
        {
          "output_type": "execute_result",
          "data": {
            "text/plain": [
              "<tensorflow.python.keras.callbacks.History at 0x7f6010165a58>"
            ]
          },
          "metadata": {
            "tags": []
          },
          "execution_count": 44
        }
      ]
    },
    {
      "cell_type": "code",
      "metadata": {
        "id": "4_YLxebJjlXR",
        "colab_type": "code",
        "outputId": "7afd1331-56fe-4908-b02a-d60df2ca31be",
        "colab": {
          "base_uri": "https://localhost:8080/",
          "height": 53
        }
      },
      "source": [
        "model.evaluate(x_test, y_test, verbose=2)"
      ],
      "execution_count": 0,
      "outputs": [
        {
          "output_type": "stream",
          "text": [
            "10000/10000 - 0s - loss: 0.0714 - accuracy: 0.9785\n"
          ],
          "name": "stdout"
        },
        {
          "output_type": "execute_result",
          "data": {
            "text/plain": [
              "[0.07142293076766655, 0.9785]"
            ]
          },
          "metadata": {
            "tags": []
          },
          "execution_count": 45
        }
      ]
    },
    {
      "cell_type": "code",
      "metadata": {
        "id": "3Xn-bOPIjyuh",
        "colab_type": "code",
        "colab": {}
      },
      "source": [
        "probability_model = tf.keras.Sequential([\n",
        "                                         model, tf.keras.layers.Softmax()\n",
        "])"
      ],
      "execution_count": 0,
      "outputs": []
    },
    {
      "cell_type": "code",
      "metadata": {
        "id": "fEM3lluhj5nj",
        "colab_type": "code",
        "outputId": "063cf99e-ea46-425c-c559-34426f951fc8",
        "colab": {
          "base_uri": "https://localhost:8080/",
          "height": 305
        }
      },
      "source": [
        "probability_model(x_test[:5])"
      ],
      "execution_count": 0,
      "outputs": [
        {
          "output_type": "execute_result",
          "data": {
            "text/plain": [
              "<tf.Tensor: shape=(5, 10), dtype=float32, numpy=\n",
              "array([[1.1328150e-07, 1.7329302e-07, 8.9060666e-07, 6.4150413e-04,\n",
              "        2.4292826e-10, 8.9302119e-07, 1.2307923e-11, 9.9934322e-01,\n",
              "        6.3469975e-07, 1.2571665e-05],\n",
              "       [5.2885674e-09, 5.0579308e-04, 9.9949253e-01, 1.6867633e-06,\n",
              "        7.6654809e-16, 4.4423660e-09, 1.5801262e-10, 5.1923061e-16,\n",
              "        7.8263636e-09, 1.9524480e-12],\n",
              "       [1.0405217e-07, 9.9898905e-01, 2.4471112e-04, 6.0756911e-06,\n",
              "        1.9923173e-05, 7.8427394e-07, 2.3261125e-06, 6.8717479e-04,\n",
              "        4.9636586e-05, 1.8298019e-07],\n",
              "       [9.9956626e-01, 1.0020399e-08, 1.8923001e-05, 3.1681854e-08,\n",
              "        1.7071645e-06, 5.6631785e-07, 4.0721594e-04, 1.2970701e-06,\n",
              "        1.2940718e-09, 3.9951960e-06],\n",
              "       [4.3460641e-06, 1.8309638e-09, 2.2972072e-05, 1.7676593e-08,\n",
              "        9.9894780e-01, 1.5246956e-08, 3.1519421e-06, 2.1355754e-05,\n",
              "        7.9031321e-07, 9.9967059e-04]], dtype=float32)>"
            ]
          },
          "metadata": {
            "tags": []
          },
          "execution_count": 47
        }
      ]
    }
  ]
}